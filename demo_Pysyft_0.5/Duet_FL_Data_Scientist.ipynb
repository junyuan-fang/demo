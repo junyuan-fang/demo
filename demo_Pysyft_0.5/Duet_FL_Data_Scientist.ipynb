{
 "cells": [
  {
   "cell_type": "markdown",
   "id": "cdb86306",
   "metadata": {},
   "source": [
    "# Syft Duet - Data Scientist "
   ]
  },
  {
   "cell_type": "markdown",
   "id": "979b6d75",
   "metadata": {},
   "source": [
    "## PART 1: Connect to a Remote Duet Server\n",
    "\n",
    "As the Data Scientist, you want to perform data science on data that is sitting in the Data Owner's Duet server in their Notebook.\n",
    "\n",
    "In order to do this, we must run the code that the Data Owner sends us, which importantly includes their Duet Session ID. The code will look like this, importantly with their real Server ID.\n",
    "\n",
    "```\n",
    "import syft as sy\n",
    "duet = sy.duet('xxxxxxxxxxxxxxxxxxxxxxxxxxxxxxxx')\n",
    "```\n",
    "\n",
    "This will create a direct connection from my notebook to the remote Duet server. Once the connection is established all traffic is sent directly between the two nodes.\n",
    "\n",
    "Paste the code or Server ID that the Data Owner gives you and run it in the cell below. It will return your Client ID which you must send to the Data Owner to enter into Duet so it can pair your notebooks.\n"
   ]
  },
  {
   "cell_type": "markdown",
   "id": "d50b938c",
   "metadata": {},
   "source": [
    "Please do not run ```duet``` blocks from ```Duet_FL_Data_Owner_1_Alice``` and ```Duet_FL_Data_Owner_2_Bob``` \"Simultaneously\".  \n",
    "The sequence of runs is:  \n",
    "* 1. Go to ```Duet_FL_Data_Owner_1_Alice``` file and run its ```duet``` block\n",
    "* 2. Back to ```Duet_FL_Data_Scientist``` file and run its ```duet1``` block\n",
    "* 3. Go to ```Duet_FL_Data_Owner_2_Bob``` file and run its ```duet``` block\n",
    "* 4. Back to ```Duet_FL_Data_Scientist``` file and run  its ```duet2``` block\n"
   ]
  },
  {
   "cell_type": "code",
   "execution_count": 1,
   "id": "sized-session",
   "metadata": {
    "scrolled": false
   },
   "outputs": [
    {
     "name": "stdout",
     "output_type": "stream",
     "text": [
      "🎤  🎸  ♪♪♪ Joining Duet ♫♫♫  🎻  🎹\n",
      "\n",
      "♫♫♫ >\u001b[93m DISCLAIMER\u001b[0m: \u001b[1mDuet is an experimental feature currently in beta.\n",
      "♫♫♫ > Use at your own risk.\n",
      "\u001b[0m\n",
      "\u001b[1m\n",
      "    > ❤️ \u001b[91mLove\u001b[0m \u001b[92mDuet\u001b[0m? \u001b[93mPlease\u001b[0m \u001b[94mconsider\u001b[0m \u001b[95msupporting\u001b[0m \u001b[91mour\u001b[0m \u001b[93mcommunity!\u001b[0m\n",
      "    > https://github.com/sponsors/OpenMined\u001b[1m\n",
      "\n",
      "♫♫♫ > Punching through firewall to OpenGrid Network Node at:\n",
      "♫♫♫ > http://ec2-18-218-7-180.us-east-2.compute.amazonaws.com:5000\n",
      "♫♫♫ >\n",
      "♫♫♫ > ...waiting for response from OpenGrid Network... \n",
      "♫♫♫ > \u001b[92mDONE!\u001b[0m\n"
     ]
    },
    {
     "name": "stderr",
     "output_type": "stream",
     "text": [
      "/home/fjunyuan/.local/lib/python3.8/site-packages/aiortc/rtcdtlstransport.py:211: CryptographyDeprecationWarning: This version of cryptography contains a temporary pyOpenSSL fallback path. Upgrade pyOpenSSL now.\n",
      "  _openssl_assert(lib.SSL_CTX_use_certificate(ctx, self._cert._x509) == 1)  # type: ignore\n",
      "/home/fjunyuan/.local/lib/python3.8/site-packages/aiortc/rtcdtlstransport.py:186: CryptographyDeprecationWarning: This version of cryptography contains a temporary pyOpenSSL fallback path. Upgrade pyOpenSSL now.\n",
      "  value=certificate_digest(self._cert._x509),  # type: ignore\n"
     ]
    },
    {
     "name": "stdout",
     "output_type": "stream",
     "text": [
      "\n",
      "♫♫♫ > \u001b[92mCONNECTED!\u001b[0m\n"
     ]
    }
   ],
   "source": [
    "import syft as sy\n",
    "#Alice\n",
    "duet1 = sy.join_duet(loopback=True)"
   ]
  },
  {
   "cell_type": "code",
   "execution_count": 2,
   "id": "65d0aacb",
   "metadata": {},
   "outputs": [
    {
     "name": "stdout",
     "output_type": "stream",
     "text": [
      "🎤  🎸  ♪♪♪ Joining Duet ♫♫♫  🎻  🎹\n",
      "\n",
      "♫♫♫ >\u001b[93m DISCLAIMER\u001b[0m: \u001b[1mDuet is an experimental feature currently in beta.\n",
      "♫♫♫ > Use at your own risk.\n",
      "\u001b[0m\n",
      "\u001b[1m\n",
      "    > ❤️ \u001b[91mLove\u001b[0m \u001b[92mDuet\u001b[0m? \u001b[93mPlease\u001b[0m \u001b[94mconsider\u001b[0m \u001b[95msupporting\u001b[0m \u001b[91mour\u001b[0m \u001b[93mcommunity!\u001b[0m\n",
      "    > https://github.com/sponsors/OpenMined\u001b[1m\n",
      "\n",
      "♫♫♫ > Punching through firewall to OpenGrid Network Node at:\n",
      "♫♫♫ > http://ec2-18-218-7-180.us-east-2.compute.amazonaws.com:5000\n",
      "♫♫♫ >\n",
      "♫♫♫ > ...waiting for response from OpenGrid Network... \n",
      "♫♫♫ > \u001b[92mDONE!\u001b[0m\n",
      "\n",
      "♫♫♫ > \u001b[92mCONNECTED!\u001b[0m\n"
     ]
    }
   ],
   "source": [
    "#Bob\n",
    "duet2 = sy.join_duet(loopback=True)# Part 2: Search for Available Data\n"
   ]
  },
  {
   "cell_type": "markdown",
   "id": "ada61844",
   "metadata": {},
   "source": [
    "Now you can go back to ```Duet_FL_Data_Owner_1_Alice``` and ```Duet_FL_Data_Owner_2_Bob``` and run the rest of the code there.  \n",
    "Since everything is finished you can back to here."
   ]
  },
  {
   "cell_type": "markdown",
   "id": "intellectual-suffering",
   "metadata": {},
   "source": [
    "# Part 2: Search and point for Available Data\n"
   ]
  },
  {
   "cell_type": "code",
   "execution_count": 3,
   "id": "virtual-small",
   "metadata": {
    "scrolled": true
   },
   "outputs": [
    {
     "data": {
      "text/html": [
       "<div>\n",
       "<style scoped>\n",
       "    .dataframe tbody tr th:only-of-type {\n",
       "        vertical-align: middle;\n",
       "    }\n",
       "\n",
       "    .dataframe tbody tr th {\n",
       "        vertical-align: top;\n",
       "    }\n",
       "\n",
       "    .dataframe thead th {\n",
       "        text-align: right;\n",
       "    }\n",
       "</style>\n",
       "<table border=\"1\" class=\"dataframe\">\n",
       "  <thead>\n",
       "    <tr style=\"text-align: right;\">\n",
       "      <th></th>\n",
       "      <th>ID</th>\n",
       "      <th>Tags</th>\n",
       "      <th>Description</th>\n",
       "      <th>object_type</th>\n",
       "    </tr>\n",
       "  </thead>\n",
       "  <tbody>\n",
       "    <tr>\n",
       "      <th>0</th>\n",
       "      <td>&lt;UID: c3fc9396ba2f4646bd5df9e82b75cd42&gt;</td>\n",
       "      <td>[Bob_iris-data]</td>\n",
       "      <td>This is a dataset for flower classification of...</td>\n",
       "      <td>&lt;class 'torch.Tensor'&gt;</td>\n",
       "    </tr>\n",
       "    <tr>\n",
       "      <th>1</th>\n",
       "      <td>&lt;UID: 3a8edd9141064106b504887f3120008c&gt;</td>\n",
       "      <td>[Bob_iris-target]</td>\n",
       "      <td>Labels for flowers: Iris-setosa, Iris-versicol...</td>\n",
       "      <td>&lt;class 'torch.Tensor'&gt;</td>\n",
       "    </tr>\n",
       "  </tbody>\n",
       "</table>\n",
       "</div>"
      ],
      "text/plain": [
       "                                        ID               Tags  \\\n",
       "0  <UID: c3fc9396ba2f4646bd5df9e82b75cd42>    [Bob_iris-data]   \n",
       "1  <UID: 3a8edd9141064106b504887f3120008c>  [Bob_iris-target]   \n",
       "\n",
       "                                         Description             object_type  \n",
       "0  This is a dataset for flower classification of...  <class 'torch.Tensor'>  \n",
       "1  Labels for flowers: Iris-setosa, Iris-versicol...  <class 'torch.Tensor'>  "
      ]
     },
     "execution_count": 3,
     "metadata": {},
     "output_type": "execute_result"
    }
   ],
   "source": [
    "# The data scientist can check the list of searchable data in Data Owner's duet store\n",
    "duet1.store.pandas"
   ]
  },
  {
   "cell_type": "code",
   "execution_count": 4,
   "id": "6fdd2674",
   "metadata": {},
   "outputs": [
    {
     "data": {
      "text/html": [
       "<div>\n",
       "<style scoped>\n",
       "    .dataframe tbody tr th:only-of-type {\n",
       "        vertical-align: middle;\n",
       "    }\n",
       "\n",
       "    .dataframe tbody tr th {\n",
       "        vertical-align: top;\n",
       "    }\n",
       "\n",
       "    .dataframe thead th {\n",
       "        text-align: right;\n",
       "    }\n",
       "</style>\n",
       "<table border=\"1\" class=\"dataframe\">\n",
       "  <thead>\n",
       "    <tr style=\"text-align: right;\">\n",
       "      <th></th>\n",
       "      <th>ID</th>\n",
       "      <th>Tags</th>\n",
       "      <th>Description</th>\n",
       "      <th>object_type</th>\n",
       "    </tr>\n",
       "  </thead>\n",
       "  <tbody>\n",
       "    <tr>\n",
       "      <th>0</th>\n",
       "      <td>&lt;UID: 75cd6246ecb84b9eb4b91d9d0cfe1d11&gt;</td>\n",
       "      <td>[Alice_iris-data]</td>\n",
       "      <td>This is a dataset for flower classification of...</td>\n",
       "      <td>&lt;class 'torch.Tensor'&gt;</td>\n",
       "    </tr>\n",
       "    <tr>\n",
       "      <th>1</th>\n",
       "      <td>&lt;UID: 3470eff444fb47d8adbd497582b6b303&gt;</td>\n",
       "      <td>[Alice_iris-target]</td>\n",
       "      <td>Labels for flowers: Iris-setosa, Iris-versicol...</td>\n",
       "      <td>&lt;class 'torch.Tensor'&gt;</td>\n",
       "    </tr>\n",
       "  </tbody>\n",
       "</table>\n",
       "</div>"
      ],
      "text/plain": [
       "                                        ID                 Tags  \\\n",
       "0  <UID: 75cd6246ecb84b9eb4b91d9d0cfe1d11>    [Alice_iris-data]   \n",
       "1  <UID: 3470eff444fb47d8adbd497582b6b303>  [Alice_iris-target]   \n",
       "\n",
       "                                         Description             object_type  \n",
       "0  This is a dataset for flower classification of...  <class 'torch.Tensor'>  \n",
       "1  Labels for flowers: Iris-setosa, Iris-versicol...  <class 'torch.Tensor'>  "
      ]
     },
     "execution_count": 4,
     "metadata": {},
     "output_type": "execute_result"
    }
   ],
   "source": [
    "duet2.store.pandas"
   ]
  },
  {
   "cell_type": "markdown",
   "id": "violent-cutting",
   "metadata": {},
   "source": [
    "Data Scientist wants to use the iris dataset. But (S)He can not directly access to data. (S)He needs a pointer to the data(feature) and a pointer to the target(label) for prediction."
   ]
  },
  {
   "cell_type": "markdown",
   "id": "371752a8",
   "metadata": {},
   "source": [
    "## In this notebook we assume ```data_owner1``` =```Alice``` and ```data_owner2``` = ```Bob```"
   ]
  },
  {
   "cell_type": "code",
   "execution_count": 5,
   "id": "statewide-sydney",
   "metadata": {},
   "outputs": [],
   "source": [
    "# Pointers for Alice\n",
    "data1_ptr = duet1.store[0]#\"Alice_iris-data\" or \"Bob_iris-data\" depends on the order you ran it \n",
    "target1_ptr = duet1.store[1]#\"Alice_iris-target\" or \"Bob_iris-target\""
   ]
  },
  {
   "cell_type": "markdown",
   "id": "marked-interaction",
   "metadata": {},
   "source": [
    "`data_ptr` is a reference to the iris dataset remotely available on data owner's server.\n",
    "`target_ptr` is a reference to the iris dataset LABELS remotely available on data owner's server"
   ]
  },
  {
   "cell_type": "code",
   "execution_count": 6,
   "id": "11d3b653",
   "metadata": {},
   "outputs": [],
   "source": [
    "# Pointers for Bob\n",
    "data2_ptr = duet2.store[0]\n",
    "target2_ptr = duet2.store[1]"
   ]
  },
  {
   "cell_type": "code",
   "execution_count": 7,
   "id": "dd53a949",
   "metadata": {},
   "outputs": [
    {
     "name": "stdout",
     "output_type": "stream",
     "text": [
      "<syft.proxy.torch.TensorPointer object at 0x7f7a4065dc40>\n",
      "<syft.proxy.torch.TensorPointer object at 0x7f7a41e442e0>\n",
      "<syft.proxy.torch.TensorPointer object at 0x7f7a41e44040>\n",
      "<syft.proxy.torch.TensorPointer object at 0x7f7a41e44af0>\n"
     ]
    }
   ],
   "source": [
    "print(data1_ptr)\n",
    "print(target1_ptr)\n",
    "print(data2_ptr)\n",
    "print(target2_ptr)"
   ]
  },
  {
   "cell_type": "markdown",
   "id": "55b15867",
   "metadata": {},
   "source": [
    "## PART 3: Setting up a Model\n",
    "The model we use is MLP"
   ]
  },
  {
   "cell_type": "markdown",
   "id": "79aa83bf",
   "metadata": {},
   "source": [
    "First, let's create our model for `MLP`. We do this in almost the exact same way as in PyTorch. The main difference is we inherit from sy.Module instead of nn.Module and we need to pass in a variable called torch_ref which we will use internally for any calls that would normally be to torch."
   ]
  },
  {
   "cell_type": "code",
   "execution_count": 8,
   "id": "9fac71b5",
   "metadata": {},
   "outputs": [],
   "source": [
    "class SyNet(sy.Module):\n",
    "    def __init__(self, torch_ref):\n",
    "        #继承父类 sy.Module\n",
    "        super(SyNet, self).__init__(torch_ref=torch_ref)\n",
    "        self.layer1 = self.torch_ref.nn.Linear(in_dim, 20)\n",
    "        self.layer2 = self.torch_ref.nn.Linear(20, 30)\n",
    "        self.layer3 = self.torch_ref.nn.Linear(30, 30)\n",
    "        self.out = self.torch_ref.nn.Linear(30, out_dim)\n",
    "\n",
    "    def forward(self, x):\n",
    "        x = self.torch_ref.nn.functional.relu(self.layer1(x))\n",
    "        x = self.torch_ref.nn.functional.relu(self.layer2(x))\n",
    "        x = self.torch_ref.nn.functional.relu(self.layer3(x))\n",
    "        output = self.torch_ref.nn.functional.log_softmax(self.out(x), dim=1)\n",
    "        return output\n"
   ]
  },
  {
   "cell_type": "markdown",
   "id": "578e1358",
   "metadata": {},
   "source": [
    "## PART 4: Perform MLP on Iris dataset\n",
    "Now the data scientist can perform machine learning on the data that is in the Data Owner's duet server, without the owner having to share his/her data."
   ]
  },
  {
   "cell_type": "markdown",
   "id": "introductory-dominican",
   "metadata": {},
   "source": [
    "### Basic analysis"
   ]
  },
  {
   "cell_type": "markdown",
   "id": "auburn-symphony",
   "metadata": {},
   "source": [
    "First the data scientist needs to know some basic information about the dataset.\n",
    "1. The length of the dataset\n",
    "2. The input dimension\n",
    "3. The output dimension\n",
    "\n",
    "These information have to be explicitly shared by the Data Owner. Let's try to find them in the data description."
   ]
  },
  {
   "cell_type": "code",
   "execution_count": 9,
   "id": "crucial-saskatchewan",
   "metadata": {
    "scrolled": false
   },
   "outputs": [
    {
     "name": "stdout",
     "output_type": "stream",
     "text": [
      "This is a dataset for flower classification of 80 samples. 4 Features are sepal length (cm),sepal width (cm), petal length (cm), petal width (cm)\n",
      "\n",
      "Labels for flowers: Iris-setosa, Iris-versicolour, Iris-virginica\n"
     ]
    }
   ],
   "source": [
    "print(duet1.store.pandas[\"Description\"][0])\n",
    "print()\n",
    "print(duet1.store.pandas[\"Description\"][1])"
   ]
  },
  {
   "cell_type": "code",
   "execution_count": 10,
   "id": "9fd72e6f",
   "metadata": {
    "scrolled": false
   },
   "outputs": [
    {
     "name": "stdout",
     "output_type": "stream",
     "text": [
      "This is a dataset for flower classification of 70 samples. 4 Features are sepal length (cm),sepal width (cm), petal length (cm), petal width (cm)\n",
      "\n",
      "Labels for flowers: Iris-setosa, Iris-versicolour, Iris-virginica\n"
     ]
    }
   ],
   "source": [
    "print(duet2.store.pandas[\"Description\"][0])\n",
    "print()\n",
    "print(duet2.store.pandas[\"Description\"][1])"
   ]
  },
  {
   "cell_type": "code",
   "execution_count": 11,
   "id": "bf77f067",
   "metadata": {},
   "outputs": [],
   "source": [
    "#After analysing, let us set data dimension and data size values as global\n",
    "in_dim = 4\n",
    "out_dim = 3\n",
    "n_samples_Alice = 70\n",
    "n_samples_Bob = 80"
   ]
  },
  {
   "cell_type": "markdown",
   "id": "rubber-factor",
   "metadata": {},
   "source": [
    "### Training"
   ]
  },
  {
   "cell_type": "markdown",
   "id": "creative-guide",
   "metadata": {},
   "source": [
    "#### 1.Send one copy of the model to each data owner or client \n",
    "#### 2.Train them remotely one by one"
   ]
  },
  {
   "cell_type": "code",
   "execution_count": 15,
   "id": "virgin-dayton",
   "metadata": {},
   "outputs": [],
   "source": [
    "import torch"
   ]
  },
  {
   "cell_type": "markdown",
   "id": "62cf4fed",
   "metadata": {},
   "source": [
    "#### 1.Send one copy of the model to each data owner or client "
   ]
  },
  {
   "cell_type": "markdown",
   "id": "57be6416",
   "metadata": {},
   "source": [
    "Now we can create a local model by passing our local copy of torch."
   ]
  },
  {
   "cell_type": "code",
   "execution_count": 16,
   "id": "proved-tumor",
   "metadata": {},
   "outputs": [],
   "source": [
    "base_model = SyNet(torch)"
   ]
  },
  {
   "cell_type": "markdown",
   "id": "armed-partner",
   "metadata": {},
   "source": [
    "##### Data Owner 1 -- Alice"
   ]
  },
  {
   "cell_type": "code",
   "execution_count": 17,
   "id": "convinced-rogers",
   "metadata": {},
   "outputs": [],
   "source": [
    "remote_model1 = base_model.send(duet1)"
   ]
  },
  {
   "cell_type": "markdown",
   "id": "grateful-calgary",
   "metadata": {},
   "source": [
    "Let's create an alias for our partner’s torch called `remote_torch` so we can refer to the local torch as torch and any operation we want to do remotely as `remote_torch`. Remember, the return values from `remote_torch` are Pointers, not the real objects. They mostly act the same when using them with other Pointers but they cannot be mixed with local torch objects.  \n",
    "\n",
    "Then we will get a pointer to our remote model parameters. Then we will set our optimizer. Here, we will be using `Adam optimizer`. `params` is a pointer to the list of parameters. `optim` is a reference to the Adam optimizer which can be used to optimize the remote model."
   ]
  },
  {
   "cell_type": "code",
   "execution_count": 18,
   "id": "396e8a99",
   "metadata": {},
   "outputs": [],
   "source": [
    "remote_torch1 = duet1.torch\n",
    "params1 = remote_model1.parameters()\n",
    "optim1 = remote_torch1.optim.Adam(params=params1, lr=0.1)"
   ]
  },
  {
   "cell_type": "markdown",
   "id": "c6ce5e08",
   "metadata": {},
   "source": [
    "###### Data Owner 2 -- Bob"
   ]
  },
  {
   "cell_type": "code",
   "execution_count": 19,
   "id": "041ba650",
   "metadata": {},
   "outputs": [],
   "source": [
    "remote_model2 = base_model.send(duet2)"
   ]
  },
  {
   "cell_type": "code",
   "execution_count": 20,
   "id": "0556b521",
   "metadata": {},
   "outputs": [],
   "source": [
    "remote_torch2 = duet2.torch\n",
    "params2 = remote_model2.parameters()\n",
    "optim2 = remote_torch2.optim.Adam(params=params2, lr=0.1)"
   ]
  },
  {
   "cell_type": "markdown",
   "id": "1cd425ac",
   "metadata": {},
   "source": [
    "#### Train them remotely one by one"
   ]
  },
  {
   "cell_type": "markdown",
   "id": "manual-acoustic",
   "metadata": {},
   "source": [
    "Now we will create our `train` function. It will take few parameters, like the `remote_model`, `torch_ref`, `optim` and `data_ptr` and `target_ptr`."
   ]
  },
  {
   "cell_type": "code",
   "execution_count": 21,
   "id": "327b3900",
   "metadata": {},
   "outputs": [],
   "source": [
    "def train(iterations, model, torch_ref, optim, data_ptr, target_ptr):\n",
    "\n",
    "    losses = []\n",
    "\n",
    "    for i in range(iterations):\n",
    "        \n",
    "        # 1) erase previous gradients (if they exist)\n",
    "        optim.zero_grad()\n",
    "        \n",
    "        # 2) make a prediction\n",
    "        output = model(data_ptr)\n",
    "        \n",
    "        # 3) calculate how much we missed\n",
    "        # nll_loss = negative log-liklihood loss\n",
    "        # if use mse, returns None because our model's output layer uses \"nn.functional.log_softmax\"\n",
    "        loss = torch_ref.nn.functional.nll_loss(output, target_ptr.long())\n",
    "        \n",
    "        # loss items\n",
    "        #########################################\n",
    "        loss_item = loss.item()\n",
    "        \n",
    "        #during training keep track of the loss.\n",
    "        #we need to ask for the loss item from the data owner, because it is training remotely on his machine\n",
    "        loss_value = loss_item.get(\n",
    "            reason=\"To evaluate training progress\", \n",
    "            request_block=True, \n",
    "            timeout_secs=5\n",
    "        )\n",
    "\n",
    "        print(\"Epoch\", i, \"loss\", loss_value)\n",
    "\n",
    "        losses.append(loss_value)\n",
    "        #########################################\n",
    "        \n",
    "        # 4) figure out which weights caused us to miss\n",
    "        loss.backward()\n",
    "        \n",
    "        # 5) change those weights\n",
    "        optim.step()\n",
    "\n",
    "    return losses"
   ]
  },
  {
   "cell_type": "markdown",
   "id": "14917734",
   "metadata": {},
   "source": [
    "###### Data Owner 1 -- Alice"
   ]
  },
  {
   "cell_type": "markdown",
   "id": "moral-election",
   "metadata": {},
   "source": [
    "Train on Data Owner 1 data"
   ]
  },
  {
   "cell_type": "code",
   "execution_count": 22,
   "id": "clinical-cement",
   "metadata": {},
   "outputs": [
    {
     "name": "stdout",
     "output_type": "stream",
     "text": [
      "Epoch 0 loss 1.062825083732605\n",
      "Epoch 1 loss 0.7082244157791138\n",
      "Epoch 2 loss 3.9934134483337402\n",
      "Epoch 3 loss 1.3003758192062378\n",
      "Epoch 4 loss 0.6861977577209473\n",
      "Epoch 5 loss 0.8324025273323059\n",
      "Epoch 6 loss 0.8585746884346008\n",
      "Epoch 7 loss 0.8087603449821472\n",
      "Epoch 8 loss 0.7466453313827515\n",
      "Epoch 9 loss 0.7464252710342407\n"
     ]
    }
   ],
   "source": [
    "iteration = 10\n",
    "losses1 = train(iteration, remote_model1, remote_torch1, optim1, data1_ptr, target1_ptr)"
   ]
  },
  {
   "cell_type": "code",
   "execution_count": 23,
   "id": "ec8e6398",
   "metadata": {},
   "outputs": [],
   "source": [
    "#target1_ptr.get(request_block=True, delete_obj=False)"
   ]
  },
  {
   "cell_type": "code",
   "execution_count": 24,
   "id": "b915ebd4",
   "metadata": {},
   "outputs": [
    {
     "data": {
      "text/plain": [
       "Text(0.5, 0, 'iteration')"
      ]
     },
     "execution_count": 24,
     "metadata": {},
     "output_type": "execute_result"
    },
    {
     "data": {
      "image/png": "[encoded data removed]",
      "text/plain": [
       "<Figure size 432x288 with 1 Axes>"
      ]
     },
     "metadata": {
      "needs_background": "light"
     },
     "output_type": "display_data"
    }
   ],
   "source": [
    "import matplotlib.pyplot as plt\n",
    "plt.plot(range(iteration), losses1)\n",
    "plt.ylabel(\"Loss\")\n",
    "plt.xlabel(\"iteration\")"
   ]
  },
  {
   "cell_type": "markdown",
   "id": "9ddb22ae",
   "metadata": {},
   "source": [
    "###### Data Owner 2 -- Bob"
   ]
  },
  {
   "cell_type": "markdown",
   "id": "11b7c84e",
   "metadata": {},
   "source": [
    "Train on Data Owner 2 data"
   ]
  },
  {
   "cell_type": "code",
   "execution_count": 25,
   "id": "loose-aging",
   "metadata": {},
   "outputs": [
    {
     "name": "stdout",
     "output_type": "stream",
     "text": [
      "Epoch 0 loss 1.167180061340332\n",
      "Epoch 1 loss 1.3690968751907349\n",
      "Epoch 2 loss 0.8800439238548279\n",
      "Epoch 3 loss 0.8253083825111389\n",
      "Epoch 4 loss 0.68745356798172\n",
      "Epoch 5 loss 0.6503481268882751\n",
      "Epoch 6 loss 0.5672250986099243\n",
      "Epoch 7 loss 0.47517743706703186\n",
      "Epoch 8 loss 0.42719778418540955\n",
      "Epoch 9 loss 0.23246146738529205\n"
     ]
    }
   ],
   "source": [
    "iteration = 10\n",
    "losses2 = train(iteration, remote_model2, remote_torch2, optim2, data2_ptr, target2_ptr)"
   ]
  },
  {
   "cell_type": "code",
   "execution_count": 26,
   "id": "7acc1099",
   "metadata": {},
   "outputs": [
    {
     "data": {
      "text/plain": [
       "Text(0.5, 0, 'iteration')"
      ]
     },
     "execution_count": 26,
     "metadata": {},
     "output_type": "execute_result"
    },
    {
     "data": {
      "image/png": "[encoded data removed]",
      "text/plain": [
       "<Figure size 432x288 with 1 Axes>"
      ]
     },
     "metadata": {
      "needs_background": "light"
     },
     "output_type": "display_data"
    }
   ],
   "source": [
    "plt.plot(range(iteration), losses2)\n",
    "plt.ylabel(\"Loss\")\n",
    "plt.xlabel(\"iteration\")"
   ]
  },
  {
   "cell_type": "markdown",
   "id": "grave-gravity",
   "metadata": {},
   "source": [
    "## PART 5: Averaging Model Updates"
   ]
  },
  {
   "cell_type": "markdown",
   "id": "closed-bangladesh",
   "metadata": {},
   "source": [
    "Ideally, there will be a coordinator server with a secure aggreagtor who will get the model updates from different clients and make an aggregation. For the case of simplicity, in this example we will make the Data Sceintist server work as the coordinator."
   ]
  },
  {
   "cell_type": "markdown",
   "id": "hearing-passage",
   "metadata": {},
   "source": [
    "### Little sanity check!"
   ]
  },
  {
   "cell_type": "code",
   "execution_count": 27,
   "id": "eastern-silicon",
   "metadata": {},
   "outputs": [],
   "source": [
    "param1 = remote_model1.parameters().get(request_block=True)\n",
    "param2 = remote_model2.parameters().get(request_block=True)\n",
    "\n",
    "# print(\"Base Model parameters:\")\n",
    "# print(base_model.parameters())\n",
    "#weights, bias"
   ]
  },
  {
   "cell_type": "code",
   "execution_count": 28,
   "id": "509ee4d2",
   "metadata": {},
   "outputs": [],
   "source": [
    "# print(\"Remote model1 parameters:\")\n",
    "# print(param1)"
   ]
  },
  {
   "cell_type": "code",
   "execution_count": 29,
   "id": "ede83ce1",
   "metadata": {},
   "outputs": [],
   "source": [
    "# print(\"Remote model2 parameters:\")\n",
    "# print(param2)"
   ]
  },
  {
   "cell_type": "markdown",
   "id": "preceding-beijing",
   "metadata": {},
   "source": [
    "As you can see, the remote model paramter values are different from the base model paramter values. That means the remote copies of our base model got trained and updated."
   ]
  },
  {
   "cell_type": "code",
   "execution_count": 30,
   "id": "afraid-bishop",
   "metadata": {},
   "outputs": [],
   "source": [
    "remote_model1_updates = remote_model1.get(\n",
    "    request_block=True\n",
    ").state_dict()"
   ]
  },
  {
   "cell_type": "code",
   "execution_count": 56,
   "id": "1acef63b",
   "metadata": {},
   "outputs": [],
   "source": [
    "remote_model1.get(\n",
    "    request_block=True\n",
    ").parameters();"
   ]
  },
  {
   "cell_type": "code",
   "execution_count": 32,
   "id": "limiting-slope",
   "metadata": {},
   "outputs": [],
   "source": [
    "remote_model2_updates = remote_model2.get(\n",
    "    request_block=True\n",
    ").state_dict()"
   ]
  },
  {
   "cell_type": "code",
   "execution_count": 33,
   "id": "personalized-measure",
   "metadata": {},
   "outputs": [],
   "source": [
    "from collections import OrderedDict"
   ]
  },
  {
   "cell_type": "markdown",
   "id": "apparent-platform",
   "metadata": {},
   "source": [
    "Let's do the aggregation of the weights. In this example, we will just calculate the average of corresponding weights from each model.  \n",
    "Here we have ```layer1.weight```, ```layer1.bias```, ```layer2.weight```, ```layer2.bias```, ```layer3.weight```, ```layer3.bias```"
   ]
  },
  {
   "cell_type": "code",
   "execution_count": 34,
   "id": "6b778c7a",
   "metadata": {},
   "outputs": [
    {
     "data": {
      "text/plain": [
       "tensor([ 0.4852, -0.1751,  0.0489, -0.1555, -0.2250, -0.1857, -0.4386, -0.3316,\n",
       "        -0.4379,  0.3310, -0.3835, -0.8033, -0.0876, -0.0189,  0.0797, -0.4238,\n",
       "        -0.4885, -0.0413, -0.4268, -0.3395])"
      ]
     },
     "execution_count": 34,
     "metadata": {},
     "output_type": "execute_result"
    }
   ],
   "source": [
    "remote_model1_updates[\"layer1.bias\"]"
   ]
  },
  {
   "cell_type": "markdown",
   "id": "4e63a029",
   "metadata": {},
   "source": [
    "# Aggrigator: FederatedAveraging method FedAvg"
   ]
  },
  {
   "cell_type": "code",
   "execution_count": 35,
   "id": "3ff62716",
   "metadata": {},
   "outputs": [
    {
     "data": {
      "text/html": [
       "<img src=\"FedAvg.jpg\" width=\"800\" height=\"800\"/>"
      ],
      "text/plain": [
       "<IPython.core.display.Image object>"
      ]
     },
     "execution_count": 35,
     "metadata": {},
     "output_type": "execute_result"
    }
   ],
   "source": [
    "from IPython.display import Image\n",
    "Image(url= \"FedAvg.jpg\", width=800, height=800)"
   ]
  },
  {
   "cell_type": "code",
   "execution_count": 36,
   "id": "experimental-pulse",
   "metadata": {},
   "outputs": [],
   "source": [
    "#layer1.weight, layer1.bias, layer2.weight, layer2.bias, layer3.weight, layer3.bias\n",
    "avg_updates = OrderedDict()\n",
    "#data_size is 150All = 80Bob + 70Alice\n",
    "\n",
    "avg_updates[\"layer1.weight\"] = (\n",
    "    remote_model1_updates[\"layer1.weight\"]*80 + remote_model2_updates[\"layer1.weight\"]*70\n",
    ")/150\n",
    "avg_updates[\"layer1.bias\"] = (\n",
    "    remote_model1_updates[\"layer1.bias\"]*80 + remote_model2_updates[\"layer1.bias\"]*70\n",
    ")/150\n",
    "\n",
    "avg_updates[\"layer2.weight\"] = (\n",
    "    remote_model1_updates[\"layer2.weight\"]*80 + remote_model2_updates[\"layer2.weight\"]*70\n",
    ") /150\n",
    "avg_updates[\"layer2.bias\"] = (\n",
    "    remote_model1_updates[\"layer2.bias\"]*80 + remote_model2_updates[\"layer2.bias\"]*70\n",
    ") /150\n",
    "avg_updates[\"layer3.weight\"] = (\n",
    "    remote_model1_updates[\"layer3.weight\"]*80 + remote_model2_updates[\"layer3.weight\"]*70\n",
    ") /150\n",
    "avg_updates[\"layer3.bias\"] = (\n",
    "    remote_model1_updates[\"layer3.bias\"]*80 + remote_model2_updates[\"layer3.bias\"]*70\n",
    ") /150\n",
    "\n",
    "#print(avg_updates)"
   ]
  },
  {
   "cell_type": "markdown",
   "id": "approximate-scotland",
   "metadata": {},
   "source": [
    "### Load aggregated weights"
   ]
  },
  {
   "cell_type": "code",
   "execution_count": 37,
   "id": "hungarian-chess",
   "metadata": {},
   "outputs": [],
   "source": [
    "combined_model = SyNet(torch)"
   ]
  },
  {
   "cell_type": "code",
   "execution_count": 38,
   "id": "exempt-gathering",
   "metadata": {},
   "outputs": [],
   "source": [
    "combined_model.load_state_dict(avg_updates)"
   ]
  },
  {
   "cell_type": "code",
   "execution_count": 39,
   "id": "beautiful-coating",
   "metadata": {},
   "outputs": [],
   "source": [
    "del avg_updates, remote_model1_updates, remote_model2_updates"
   ]
  },
  {
   "cell_type": "markdown",
   "id": "75f930cb",
   "metadata": {},
   "source": [
    "### Test "
   ]
  },
  {
   "cell_type": "code",
   "execution_count": 40,
   "id": "64fa2be4",
   "metadata": {},
   "outputs": [],
   "source": [
    "import torch\n",
    "import pandas as pd\n",
    "import numpy as np\n",
    "from sklearn.metrics import accuracy_score"
   ]
  },
  {
   "cell_type": "code",
   "execution_count": 41,
   "id": "c0139faf",
   "metadata": {},
   "outputs": [
    {
     "data": {
      "text/html": [
       "<div>\n",
       "<style scoped>\n",
       "    .dataframe tbody tr th:only-of-type {\n",
       "        vertical-align: middle;\n",
       "    }\n",
       "\n",
       "    .dataframe tbody tr th {\n",
       "        vertical-align: top;\n",
       "    }\n",
       "\n",
       "    .dataframe thead th {\n",
       "        text-align: right;\n",
       "    }\n",
       "</style>\n",
       "<table border=\"1\" class=\"dataframe\">\n",
       "  <thead>\n",
       "    <tr style=\"text-align: right;\">\n",
       "      <th></th>\n",
       "      <th>sepal length (cm)</th>\n",
       "      <th>sepal width (cm)</th>\n",
       "      <th>petal length (cm)</th>\n",
       "      <th>petal width (cm)</th>\n",
       "      <th>species</th>\n",
       "    </tr>\n",
       "  </thead>\n",
       "  <tbody>\n",
       "    <tr>\n",
       "      <th>0</th>\n",
       "      <td>5.8</td>\n",
       "      <td>4.0</td>\n",
       "      <td>1.2</td>\n",
       "      <td>0.2</td>\n",
       "      <td>0</td>\n",
       "    </tr>\n",
       "    <tr>\n",
       "      <th>1</th>\n",
       "      <td>5.7</td>\n",
       "      <td>4.4</td>\n",
       "      <td>1.5</td>\n",
       "      <td>0.4</td>\n",
       "      <td>0</td>\n",
       "    </tr>\n",
       "    <tr>\n",
       "      <th>2</th>\n",
       "      <td>6.0</td>\n",
       "      <td>2.7</td>\n",
       "      <td>5.1</td>\n",
       "      <td>1.6</td>\n",
       "      <td>1</td>\n",
       "    </tr>\n",
       "    <tr>\n",
       "      <th>3</th>\n",
       "      <td>6.0</td>\n",
       "      <td>2.9</td>\n",
       "      <td>4.5</td>\n",
       "      <td>1.5</td>\n",
       "      <td>1</td>\n",
       "    </tr>\n",
       "    <tr>\n",
       "      <th>4</th>\n",
       "      <td>5.8</td>\n",
       "      <td>2.7</td>\n",
       "      <td>5.1</td>\n",
       "      <td>1.9</td>\n",
       "      <td>2</td>\n",
       "    </tr>\n",
       "  </tbody>\n",
       "</table>\n",
       "</div>"
      ],
      "text/plain": [
       "   sepal length (cm)  sepal width (cm)  petal length (cm)  petal width (cm)  \\\n",
       "0                5.8               4.0                1.2               0.2   \n",
       "1                5.7               4.4                1.5               0.4   \n",
       "2                6.0               2.7                5.1               1.6   \n",
       "3                6.0               2.9                4.5               1.5   \n",
       "4                5.8               2.7                5.1               1.9   \n",
       "\n",
       "   species  \n",
       "0        0  \n",
       "1        0  \n",
       "2        1  \n",
       "3        1  \n",
       "4        2  "
      ]
     },
     "execution_count": 41,
     "metadata": {},
     "output_type": "execute_result"
    }
   ],
   "source": [
    "iris_test = pd.read_csv(\"./data/iris-test.csv\")\n",
    "iris_test.head()"
   ]
  },
  {
   "cell_type": "code",
   "execution_count": 42,
   "id": "7fb9f580",
   "metadata": {},
   "outputs": [],
   "source": [
    "X_test = iris_test.loc[:, iris_test.columns != \"species\"]\n",
    "y_test = iris_test[\"species\"]\n",
    "X_test = torch.FloatTensor(np.array(X_test))\n",
    "y_test = torch.LongTensor(np.array(y_test))"
   ]
  },
  {
   "cell_type": "markdown",
   "id": "915d5c68",
   "metadata": {},
   "source": [
    "### FedAvg model"
   ]
  },
  {
   "cell_type": "code",
   "execution_count": 43,
   "id": "1da9ce7c",
   "metadata": {},
   "outputs": [],
   "source": [
    "local_model = combined_model"
   ]
  },
  {
   "cell_type": "code",
   "execution_count": 44,
   "id": "assured-amount",
   "metadata": {},
   "outputs": [],
   "source": [
    "preds = []\n",
    "with torch.no_grad():\n",
    "    for i in range(len(X_test)):\n",
    "        sample = X_test[i]\n",
    "        y_hat = local_model(sample.unsqueeze(0))\n",
    "        pred = y_hat.argmax().item()#因为likelihood / probability 所以argmax\n",
    "        #print(f\"Prediction: {pred} Ground Truth: {y_test[i]}\")\n",
    "        preds.append(pred)"
   ]
  },
  {
   "cell_type": "code",
   "execution_count": 45,
   "id": "4482ac6f",
   "metadata": {},
   "outputs": [
    {
     "name": "stdout",
     "output_type": "stream",
     "text": [
      "[0, 0, 1, 1, 1, 0, 1, 0, 0, 1, 1, 1, 1, 1, 1, 1, 0, 1, 0, 0, 1, 1, 0, 1, 0, 0, 0, 0, 1, 1]\n"
     ]
    }
   ],
   "source": [
    "print(preds)"
   ]
  },
  {
   "cell_type": "code",
   "execution_count": 46,
   "id": "f8664e98",
   "metadata": {
    "scrolled": true
   },
   "outputs": [
    {
     "name": "stdout",
     "output_type": "stream",
     "text": [
      "Overall test accuracy 60.0\n"
     ]
    }
   ],
   "source": [
    "acc = accuracy_score(y_test, preds)\n",
    "print(\"Overall test accuracy\", acc * 100)"
   ]
  },
  {
   "cell_type": "markdown",
   "id": "rubber-judge",
   "metadata": {},
   "source": [
    "### Download model"
   ]
  },
  {
   "cell_type": "code",
   "execution_count": 47,
   "id": "healthy-passion",
   "metadata": {},
   "outputs": [],
   "source": [
    "def get_local_model(model):\n",
    "    if not model.is_local:\n",
    "        local_model = model.get(\n",
    "            request_block=True,\n",
    "            reason=\"To run test and inference locally\",\n",
    "            timeout_secs=5,\n",
    "        )\n",
    "        print(\"it is not the local model\")\n",
    "    else:\n",
    "        local_model = model\n",
    "        print(\"it is the local model\")\n",
    "\n",
    "    return local_model\n"
   ]
  },
  {
   "cell_type": "markdown",
   "id": "f4129355",
   "metadata": {},
   "source": [
    "### Alice model"
   ]
  },
  {
   "cell_type": "code",
   "execution_count": 48,
   "id": "738a6938",
   "metadata": {},
   "outputs": [
    {
     "name": "stdout",
     "output_type": "stream",
     "text": [
      "it is not the local model\n"
     ]
    }
   ],
   "source": [
    "local_model = get_local_model(remote_model1)"
   ]
  },
  {
   "cell_type": "code",
   "execution_count": 49,
   "id": "313e03eb",
   "metadata": {},
   "outputs": [],
   "source": [
    "preds = []\n",
    "with torch.no_grad():\n",
    "    for i in range(len(X_test)):\n",
    "        sample = X_test[i]\n",
    "        y_hat = local_model(sample.unsqueeze(0))\n",
    "        pred = y_hat.argmax().item()#because of the \"log_softmax\" so argmax\n",
    "        #print(f\"Prediction: {pred} Ground Truth: {y_test[i]}\")\n",
    "        preds.append(pred)"
   ]
  },
  {
   "cell_type": "code",
   "execution_count": 50,
   "id": "e116357e",
   "metadata": {
    "scrolled": true
   },
   "outputs": [
    {
     "name": "stdout",
     "output_type": "stream",
     "text": [
      "[2, 2, 2, 2, 2, 2, 2, 2, 2, 2, 2, 2, 2, 2, 2, 2, 2, 2, 2, 2, 2, 2, 2, 2, 2, 2, 2, 2, 2, 2]\n"
     ]
    }
   ],
   "source": [
    "print(preds)"
   ]
  },
  {
   "cell_type": "code",
   "execution_count": 51,
   "id": "3e0864f9",
   "metadata": {},
   "outputs": [
    {
     "name": "stdout",
     "output_type": "stream",
     "text": [
      "Overall test accuracy 40.0\n"
     ]
    }
   ],
   "source": [
    "acc = accuracy_score(y_test, preds)\n",
    "print(\"Overall test accuracy\", acc * 100)"
   ]
  },
  {
   "cell_type": "markdown",
   "id": "b5603144",
   "metadata": {},
   "source": [
    "### Bob model"
   ]
  },
  {
   "cell_type": "code",
   "execution_count": 52,
   "id": "8625d069",
   "metadata": {},
   "outputs": [
    {
     "name": "stdout",
     "output_type": "stream",
     "text": [
      "it is not the local model\n"
     ]
    }
   ],
   "source": [
    "local_model = get_local_model(remote_model2)"
   ]
  },
  {
   "cell_type": "code",
   "execution_count": 53,
   "id": "2ea06f12",
   "metadata": {},
   "outputs": [],
   "source": [
    "preds = []\n",
    "with torch.no_grad():\n",
    "    for i in range(len(X_test)):\n",
    "        sample = X_test[i]\n",
    "        y_hat = local_model(sample.unsqueeze(0))\n",
    "        pred = y_hat.argmax().item()#because of the \"log_softmax\" so argmax\n",
    "        #print(f\"Prediction: {pred} Ground Truth: {y_test[i]}\")\n",
    "        preds.append(pred)"
   ]
  },
  {
   "cell_type": "code",
   "execution_count": 54,
   "id": "5a5356c7",
   "metadata": {},
   "outputs": [
    {
     "name": "stdout",
     "output_type": "stream",
     "text": [
      "[0, 0, 1, 1, 1, 0, 1, 0, 0, 1, 1, 1, 1, 1, 1, 1, 0, 1, 0, 0, 1, 1, 0, 1, 0, 0, 0, 0, 1, 1]\n"
     ]
    }
   ],
   "source": [
    "print(preds)"
   ]
  },
  {
   "cell_type": "code",
   "execution_count": 55,
   "id": "837a2e85",
   "metadata": {},
   "outputs": [
    {
     "name": "stdout",
     "output_type": "stream",
     "text": [
      "Overall test accuracy 60.0\n"
     ]
    }
   ],
   "source": [
    "acc = accuracy_score(y_test, preds)\n",
    "print(\"Overall test accuracy\", acc * 100)"
   ]
  }
 ],
 "metadata": {
  "kernelspec": {
   "display_name": "Python 3 (ipykernel)",
   "language": "python",
   "name": "python3"
  },
  "language_info": {
   "codemirror_mode": {
    "name": "ipython",
    "version": 3
   },
   "file_extension": ".py",
   "mimetype": "text/x-python",
   "name": "python",
   "nbconvert_exporter": "python",
   "pygments_lexer": "ipython3",
   "version": "3.8.13"
  },
  "vscode": {
   "interpreter": {
    "hash": "f9f85f796d01129d0dd105a088854619f454435301f6ffec2fea96ecbd9be4ac"
   }
  }
 },
 "nbformat": 4,
 "nbformat_minor": 5
}
