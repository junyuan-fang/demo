{
 "cells": [
  {
   "cell_type": "markdown",
   "id": "700f5867",
   "metadata": {},
   "source": [
    "#  Syft Duet - Alice "
   ]
  },
  {
   "cell_type": "code",
   "execution_count": null,
   "id": "67600150",
   "metadata": {},
   "outputs": [],
   "source": [
    "# the length of iris dataset is 150\n",
    "# how many samples would you let Alice hold?\n",
    "data_owner = \"Alice\"\n",
    "data_size = 70"
   ]
  },
  {
   "cell_type": "code",
   "execution_count": null,
   "id": "ca10d47b",
   "metadata": {},
   "outputs": [],
   "source": [
    "#check data\n",
    "if data_size <= 0:\n",
    "    data_size=1\n",
    "if data_size > 150:\n",
    "    data_size=150"
   ]
  },
  {
   "cell_type": "markdown",
   "id": "0cab2808",
   "metadata": {},
   "source": [
    "## PART 1: Launch a Duet Server and Connect\n",
    "\n",
    "As a Data Owner, you want to allow someone else to perform data science on data that you own and likely want to protect.\n",
    "\n",
    "In order to do this, we must load our data into a locally running server within this notebook. We call this server a \"Duet\".\n",
    "\n",
    "To begin, you must launch Duet and help your Duet \"partner\" (a Data Scientist) connect to this server.\n",
    "\n",
    "You do this by running the code below and sending the code snippet containing your unique Server ID to your partner and following the instructions it gives!\n",
    "\n",
    "--from openmind course"
   ]
  },
  {
   "cell_type": "code",
   "execution_count": null,
   "id": "b3f23596",
   "metadata": {},
   "outputs": [],
   "source": [
    "#launch the server\n",
    "import syft as sy\n",
    "duet = sy.launch_duet(loopback=True)"
   ]
  },
  {
   "cell_type": "markdown",
   "id": "f863d16d",
   "metadata": {},
   "source": [
    "If you are in Jupyter Notebook (not Colab) the ☝🏾DUET LIVE STATUS above will animate "
   ]
  },
  {
   "cell_type": "markdown",
   "id": "wrapped-eligibility",
   "metadata": {},
   "source": [
    "# Part 2: Upload data to Duet Server"
   ]
  },
  {
   "cell_type": "markdown",
   "id": "christian-point",
   "metadata": {},
   "source": [
    "Let's say the data owner has a dataset of Iris flowers. He will upload the data to the duet server for other data scientists to use."
   ]
  },
  {
   "cell_type": "code",
   "execution_count": 3,
   "id": "understood-aging",
   "metadata": {},
   "outputs": [],
   "source": [
    "from sklearn import datasets\n",
    "import torch as th"
   ]
  },
  {
   "cell_type": "code",
   "execution_count": 4,
   "id": "employed-momentum",
   "metadata": {},
   "outputs": [],
   "source": [
    "iris = datasets.load_iris()\n",
    "X, y = iris.data, iris.target"
   ]
  },
  {
   "cell_type": "code",
   "execution_count": null,
   "id": "b3332e64",
   "metadata": {},
   "outputs": [],
   "source": [
    "print(type(X))"
   ]
  },
  {
   "cell_type": "code",
   "execution_count": null,
   "id": "7595c9b9",
   "metadata": {},
   "outputs": [],
   "source": [
    "#adjust size\n",
    "if data_owner == \"Alice\":\n",
    "    X = X[0:data_size]#Bob X  = X[(150-data_size):]\n",
    "    y = y[0:data_size]#Bob y  = y[(150-data_size):]\n",
    "if data _owner == \"Bob\":\n",
    "    X  = X[(150-data_size):]\n",
    "    y  = y[(150-data_size):]"
   ]
  },
  {
   "cell_type": "markdown",
   "id": "fe024e73",
   "metadata": {},
   "source": [
    "For doing machine learning using torch, we need the data to be converted to FloatTensors. Here, the data owner is explicitly doing the conversion before uploading the data. If he doesn't do that, it has to be converted in the data scientist's end as you've seen in the previous exercise."
   ]
  },
  {
   "cell_type": "code",
   "execution_count": null,
   "id": "08db61fd",
   "metadata": {},
   "outputs": [],
   "source": [
    "X = th.FloatTensor(X)\n",
    "y = th.FloatTensor(y)"
   ]
  },
  {
   "cell_type": "code",
   "execution_count": null,
   "id": "d44597dd",
   "metadata": {},
   "outputs": [],
   "source": [
    "print(type(X))"
   ]
  },
  {
   "cell_type": "code",
   "execution_count": null,
   "id": "b8d3f276",
   "metadata": {},
   "outputs": [],
   "source": [
    "#add tag and describtion\n",
    "X = X.tag(\"iris-data\")\n",
    "y = y.tag(\"iris-target\")\n",
    "\n",
    "X = X.describe(\n",
    "    f\"This is a dataset for flower classification of {data_size} samples. 4 Features are sepal length (cm),\" \n",
    "    \"sepal width (cm), petal length (cm), petal width (cm)\"\n",
    ")\n",
    "y = y.describe(\"Labels for flowers: Iris-setosa, Iris-versicolour, Iris-virginica\")"
   ]
  },
  {
   "cell_type": "code",
   "execution_count": null,
   "id": "ad6400f6",
   "metadata": {},
   "outputs": [],
   "source": [
    "#send pointable dataset to server, data scientist can access to the dataset only if (s)he make a request\n",
    "data_pointer = X.send(duet, pointable=True)\n",
    "target_pointer = y.send(duet, pointable=True)"
   ]
  },
  {
   "cell_type": "code",
   "execution_count": null,
   "id": "53c8759e",
   "metadata": {},
   "outputs": [],
   "source": [
    "# Once uploaded, the data owner can see the object stored in the tensor\n",
    "duet.store"
   ]
  },
  {
   "cell_type": "code",
   "execution_count": null,
   "id": "7bdc853e",
   "metadata": {},
   "outputs": [],
   "source": [
    "# To see it in a human-readable format, data owner can also pretty-print the tensor information\n",
    "duet.store.pandas"
   ]
  },
  {
   "cell_type": "markdown",
   "id": "1ee547ab",
   "metadata": {},
   "source": [
    "## PART 3: Add Request Handlers"
   ]
  },
  {
   "cell_type": "markdown",
   "id": "cbd8d88a",
   "metadata": {},
   "source": [
    "The Data Science Notebook makes a number of requests to access data. You can view these requests with:  \n",
    "```\n",
    "duet.requests.pandas\n",
    "```\n",
    "Then manually accept or deny them with:\n",
    "```\n",
    "duet.requests[0].accept()\n",
    "```\n",
    "However for training loops, this can be slow and tedious so the below code will create request handlers which will automatically respond with `accept` or `deny` depending on the name of the request."
   ]
  },
  {
   "cell_type": "code",
   "execution_count": 3,
   "id": "db3231c6",
   "metadata": {},
   "outputs": [
    {
     "data": {
      "text/html": [
       "<div>\n",
       "<style scoped>\n",
       "    .dataframe tbody tr th:only-of-type {\n",
       "        vertical-align: middle;\n",
       "    }\n",
       "\n",
       "    .dataframe tbody tr th {\n",
       "        vertical-align: top;\n",
       "    }\n",
       "\n",
       "    .dataframe thead th {\n",
       "        text-align: right;\n",
       "    }\n",
       "</style>\n",
       "<table border=\"1\" class=\"dataframe\">\n",
       "  <thead>\n",
       "    <tr style=\"text-align: right;\">\n",
       "      <th></th>\n",
       "    </tr>\n",
       "  </thead>\n",
       "  <tbody>\n",
       "  </tbody>\n",
       "</table>\n",
       "</div>"
      ],
      "text/plain": [
       "Empty DataFrame\n",
       "Columns: []\n",
       "Index: []"
      ]
     },
     "execution_count": 3,
     "metadata": {},
     "output_type": "execute_result"
    }
   ],
   "source": [
    "duet.requests.pandas"
   ]
  },
  {
   "cell_type": "code",
   "execution_count": 6,
   "id": "thousand-borough",
   "metadata": {},
   "outputs": [
    {
     "name": "stderr",
     "output_type": "stream",
     "text": [
      "[2022-07-07T23:20:05.844945+0300][CRITICAL][logger]][567164] > HANDLER Request <UID: 67b4e1f5ef0742849e880589cd92ab77>: To evaluate training progress\n",
      "Value: <Storable: 1187.21923828125>\n",
      "[2022-07-07T23:20:06.961699+0300][CRITICAL][logger]][567164] > HANDLER Request <UID: b80cdfaa3b994faab808fa110dc1c10f>: To evaluate training progress\n",
      "Value: <Storable: 956.0552368164062>\n",
      "[2022-07-07T23:20:08.060869+0300][CRITICAL][logger]][567164] > HANDLER Request <UID: 5c183cc1c2c64672b18c7c9a19fe21e7>: To evaluate training progress\n",
      "Value: <Storable: 750.7745971679688>\n",
      "[2022-07-07T23:20:09.167205+0300][CRITICAL][logger]][567164] > HANDLER Request <UID: 4041409083d04f4c84d1d2e942aa7205>: To evaluate training progress\n",
      "Value: <Storable: 571.6748657226562>\n",
      "[2022-07-07T23:20:10.287583+0300][CRITICAL][logger]][567164] > HANDLER Request <UID: d2337493dd9949c0aa795b1a11fc54a7>: To evaluate training progress\n",
      "Value: <Storable: 418.8005676269531>\n",
      "[2022-07-07T23:20:11.398302+0300][CRITICAL][logger]][567164] > HANDLER Request <UID: d5262b14c6414637a6f707f8c3f432f1>: To evaluate training progress\n",
      "Value: <Storable: 291.87554931640625>\n",
      "[2022-07-07T23:20:12.508128+0300][CRITICAL][logger]][567164] > HANDLER Request <UID: 56a597a4b47045c9966a21a224207379>: To evaluate training progress\n",
      "Value: <Storable: 190.22999572753906>\n",
      "[2022-07-07T23:20:13.617418+0300][CRITICAL][logger]][567164] > HANDLER Request <UID: 8789a18b328d4ebe90fd62035842cc2b>: To evaluate training progress\n",
      "Value: <Storable: 112.7268295288086>\n",
      "[2022-07-07T23:20:14.712787+0300][CRITICAL][logger]][567164] > HANDLER Request <UID: 834cce20d6244b048235e66cfc0ad029>: To evaluate training progress\n",
      "Value: <Storable: 57.6978645324707>\n",
      "[2022-07-07T23:20:15.830881+0300][CRITICAL][logger]][567164] > HANDLER Request <UID: 71e74642c98142149dc641ce754069e8>: To evaluate training progress\n",
      "Value: <Storable: 22.907203674316406>\n",
      "[2022-07-07T23:21:14.735136+0300][CRITICAL][logger]][567164] > HANDLER Request <UID: f4cbdddbddb74d0fb6c050200ab87f9d>:\n",
      "Value: <Storable: [Parameter containing:tensor([[0.5725]], requires_grad=True), Parameter containing:tensor([1.5323], requires_grad=True)]>\n",
      "[2022-07-07T23:21:38.026923+0300][CRITICAL][logger]][567164] > HANDLER Request <UID: d8774d68794f4f8ab6a8da18ce8e3cfa>:\n",
      "Value: <Storable: 'in_features=1, out_features=1, bias=True'>\n",
      "[2022-07-07T23:21:39.138585+0300][CRITICAL][logger]][567164] > HANDLER Request <UID: c63dec3b8f94424ebe986724c806ef2d>:\n",
      "Value: <Storable: OrderedDict([('weight', tensor([[0.5725]])), ('bias', tensor([1.5323]))])>\n",
      "[2022-07-07T23:21:54.371755+0300][CRITICAL][logger]][567164] > HANDLER Request <UID: d08a8de1bb03468283452a5255dbc9c5>:\n",
      "Value: <Storable: 'in_features=1, out_features=1, bias=True'>\n",
      "[2022-07-07T23:21:55.481720+0300][CRITICAL][logger]][567164] > HANDLER Request <UID: 35a98d41c3f1488c82afd4c59344e76d>:\n",
      "Value: <Storable: OrderedDict([('weight', tensor([[0.5725]])), ('bias', tensor([1.5323]))])>\n",
      "[2022-07-07T23:22:12.505015+0300][CRITICAL][logger]][567164] > HANDLER Request <UID: 5986648792ec4096914df2bf2bca0238>:\n",
      "Value: <Storable: 'in_features=1, out_features=1, bias=True'>\n",
      "[2022-07-07T23:22:12.634546+0300][CRITICAL][logger]][567164] > HANDLER Request <UID: 29b58dabe52d4cdb901256c0485ab0aa>:\n",
      "Value: <Storable: OrderedDict([('weight', tensor([[0.5725]])), ('bias', tensor([1.5323]))])>\n",
      "[2022-07-07T23:22:18.066699+0300][CRITICAL][logger]][567164] > HANDLER Request <UID: 09004557ffab4ebb9c2d20d8c0317fe1>:\n",
      "Value: <Storable: 'in_features=1, out_features=1, bias=True'>\n",
      "[2022-07-07T23:22:18.194797+0300][CRITICAL][logger]][567164] > HANDLER Request <UID: 036a83605faa4a728c93ff1df279007b>:\n",
      "Value: <Storable: OrderedDict([('weight', tensor([[0.5725]])), ('bias', tensor([1.5323]))])>\n"
     ]
    }
   ],
   "source": [
    "duet.requests.add_handler(\n",
    "    action=\"accept\",\n",
    "    name = \"download_result\"\n",
    "    print_local=True,  # print the result in your notebook\n",
    ")"
   ]
  },
  {
   "cell_type": "code",
   "execution_count": null,
   "id": "assigned-tomato",
   "metadata": {},
   "outputs": [],
   "source": []
  }
 ],
 "metadata": {
  "kernelspec": {
   "display_name": "Python 3 (ipykernel)",
   "language": "python",
   "name": "python3"
  },
  "language_info": {
   "codemirror_mode": {
    "name": "ipython",
    "version": 3
   },
   "file_extension": ".py",
   "mimetype": "text/x-python",
   "name": "python",
   "nbconvert_exporter": "python",
   "pygments_lexer": "ipython3",
   "version": "3.8.13"
  }
 },
 "nbformat": 4,
 "nbformat_minor": 5
}
