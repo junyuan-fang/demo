{
 "cells": [
  {
   "cell_type": "markdown",
   "id": "continent-climb",
   "metadata": {},
   "source": [
    "# Part 1: Launch a Duet Server and upload data"
   ]
  },
  {
   "cell_type": "code",
   "execution_count": 1,
   "id": "parental-classics",
   "metadata": {},
   "outputs": [
    {
     "name": "stdout",
     "output_type": "stream",
     "text": [
      "🎤  🎸  ♪♪♪ Starting Duet ♫♫♫  🎻  🎹\n",
      "\n",
      "♫♫♫ >\u001b[93m DISCLAIMER\u001b[0m: \u001b[1mDuet is an experimental feature currently in beta.\n",
      "♫♫♫ > Use at your own risk.\n",
      "\u001b[0m\n",
      "\u001b[1m\n",
      "    > ❤️ \u001b[91mLove\u001b[0m \u001b[92mDuet\u001b[0m? \u001b[93mPlease\u001b[0m \u001b[94mconsider\u001b[0m \u001b[95msupporting\u001b[0m \u001b[91mour\u001b[0m \u001b[93mcommunity!\u001b[0m\n",
      "    > https://github.com/sponsors/OpenMined\u001b[1m\n",
      "\n",
      "♫♫♫ > Punching through firewall to OpenGrid Network Node at:\n",
      "♫♫♫ > http://ec2-18-218-7-180.us-east-2.compute.amazonaws.com:5000\n",
      "♫♫♫ >\n",
      "♫♫♫ > ...waiting for response from OpenGrid Network... \n",
      "♫♫♫ > \u001b[92mDONE!\u001b[0m\n",
      "\n",
      "♫♫♫ > \u001b[95mSTEP 1:\u001b[0m Send the following code to your Duet Partner!\n",
      "\n",
      "import syft as sy\n",
      "duet = sy.join_duet(loopback=True)\n",
      "\n",
      "♫♫♫ > Connecting...\n"
     ]
    },
    {
     "name": "stderr",
     "output_type": "stream",
     "text": [
      "/home/fjunyuan/.local/lib/python3.8/site-packages/aiortc/rtcdtlstransport.py:211: CryptographyDeprecationWarning: This version of cryptography contains a temporary pyOpenSSL fallback path. Upgrade pyOpenSSL now.\n",
      "  _openssl_assert(lib.SSL_CTX_use_certificate(ctx, self._cert._x509) == 1)  # type: ignore\n",
      "/home/fjunyuan/.local/lib/python3.8/site-packages/aiortc/rtcdtlstransport.py:186: CryptographyDeprecationWarning: This version of cryptography contains a temporary pyOpenSSL fallback path. Upgrade pyOpenSSL now.\n",
      "  value=certificate_digest(self._cert._x509),  # type: ignore\n"
     ]
    },
    {
     "name": "stdout",
     "output_type": "stream",
     "text": [
      "\n",
      "♫♫♫ > \u001b[92mCONNECTED!\u001b[0m\n",
      "\n",
      "♫♫♫ > DUET LIVE STATUS  *  Objects: 4  Requests: 0   Messages: 257  Request Handlers: 1                                \r"
     ]
    }
   ],
   "source": [
    "import syft as sy\n",
    "duet = sy.launch_duet(loopback=True)"
   ]
  },
  {
   "cell_type": "code",
   "execution_count": 2,
   "id": "dying-switch",
   "metadata": {},
   "outputs": [],
   "source": [
    "import torch as th\n",
    "import numpy as np"
   ]
  },
  {
   "cell_type": "code",
   "execution_count": 3,
   "id": "focused-error",
   "metadata": {},
   "outputs": [
    {
     "name": "stdout",
     "output_type": "stream",
     "text": [
      "`searchable` is deprecated please use `pointable` in future\n"
     ]
    }
   ],
   "source": [
    "\n",
    "data = th.FloatTensor(np.array([5, 15, 25, 35, 45, 55]).reshape(-1, 1))\n",
    "\n",
    "data = data.tag(\"DO1 data\")\n",
    "data = data.describe(\"Dataset of 6 samples, 1 feature\")\n",
    "\n",
    "data_ptr = data.send(duet, searchable=True)"
   ]
  },
  {
   "cell_type": "code",
   "execution_count": 4,
   "id": "circular-commodity",
   "metadata": {},
   "outputs": [
    {
     "name": "stdout",
     "output_type": "stream",
     "text": [
      "\r",
      "♫♫♫ > DUET LIVE STATUS  *  Objects: 1  Requests: 0   Messages: 2  Request Handlers: 0                                \r"
     ]
    },
    {
     "data": {
      "text/html": [
       "<div>\n",
       "<style scoped>\n",
       "    .dataframe tbody tr th:only-of-type {\n",
       "        vertical-align: middle;\n",
       "    }\n",
       "\n",
       "    .dataframe tbody tr th {\n",
       "        vertical-align: top;\n",
       "    }\n",
       "\n",
       "    .dataframe thead th {\n",
       "        text-align: right;\n",
       "    }\n",
       "</style>\n",
       "<table border=\"1\" class=\"dataframe\">\n",
       "  <thead>\n",
       "    <tr style=\"text-align: right;\">\n",
       "      <th></th>\n",
       "      <th>ID</th>\n",
       "      <th>Tags</th>\n",
       "      <th>Description</th>\n",
       "      <th>object_type</th>\n",
       "    </tr>\n",
       "  </thead>\n",
       "  <tbody>\n",
       "    <tr>\n",
       "      <th>0</th>\n",
       "      <td>&lt;UID: 4afd379c5ece44ffa6d75a0769a5ff1e&gt;</td>\n",
       "      <td>[DO1 data]</td>\n",
       "      <td>Dataset of 6 samples, 1 feature</td>\n",
       "      <td>&lt;class 'torch.Tensor'&gt;</td>\n",
       "    </tr>\n",
       "  </tbody>\n",
       "</table>\n",
       "</div>"
      ],
      "text/plain": [
       "                                        ID        Tags  \\\n",
       "0  <UID: 4afd379c5ece44ffa6d75a0769a5ff1e>  [DO1 data]   \n",
       "\n",
       "                       Description             object_type  \n",
       "0  Dataset of 6 samples, 1 feature  <class 'torch.Tensor'>  "
      ]
     },
     "execution_count": 4,
     "metadata": {},
     "output_type": "execute_result"
    }
   ],
   "source": [
    "duet.store.pandas"
   ]
  },
  {
   "cell_type": "code",
   "execution_count": 5,
   "id": "undefined-keeping",
   "metadata": {},
   "outputs": [
    {
     "data": {
      "text/plain": [
       "tensor([[ 5.],\n",
       "        [15.],\n",
       "        [25.],\n",
       "        [35.],\n",
       "        [45.],\n",
       "        [55.]])"
      ]
     },
     "execution_count": 5,
     "metadata": {},
     "output_type": "execute_result"
    }
   ],
   "source": [
    "data"
   ]
  },
  {
   "cell_type": "code",
   "execution_count": 6,
   "id": "thousand-borough",
   "metadata": {},
   "outputs": [
    {
     "name": "stderr",
     "output_type": "stream",
     "text": [
      "[2022-07-07T23:20:05.844945+0300][CRITICAL][logger]][567164] > HANDLER Request <UID: 67b4e1f5ef0742849e880589cd92ab77>: To evaluate training progress\n",
      "Value: <Storable: 1187.21923828125>\n",
      "[2022-07-07T23:20:06.961699+0300][CRITICAL][logger]][567164] > HANDLER Request <UID: b80cdfaa3b994faab808fa110dc1c10f>: To evaluate training progress\n",
      "Value: <Storable: 956.0552368164062>\n",
      "[2022-07-07T23:20:08.060869+0300][CRITICAL][logger]][567164] > HANDLER Request <UID: 5c183cc1c2c64672b18c7c9a19fe21e7>: To evaluate training progress\n",
      "Value: <Storable: 750.7745971679688>\n",
      "[2022-07-07T23:20:09.167205+0300][CRITICAL][logger]][567164] > HANDLER Request <UID: 4041409083d04f4c84d1d2e942aa7205>: To evaluate training progress\n",
      "Value: <Storable: 571.6748657226562>\n",
      "[2022-07-07T23:20:10.287583+0300][CRITICAL][logger]][567164] > HANDLER Request <UID: d2337493dd9949c0aa795b1a11fc54a7>: To evaluate training progress\n",
      "Value: <Storable: 418.8005676269531>\n",
      "[2022-07-07T23:20:11.398302+0300][CRITICAL][logger]][567164] > HANDLER Request <UID: d5262b14c6414637a6f707f8c3f432f1>: To evaluate training progress\n",
      "Value: <Storable: 291.87554931640625>\n",
      "[2022-07-07T23:20:12.508128+0300][CRITICAL][logger]][567164] > HANDLER Request <UID: 56a597a4b47045c9966a21a224207379>: To evaluate training progress\n",
      "Value: <Storable: 190.22999572753906>\n",
      "[2022-07-07T23:20:13.617418+0300][CRITICAL][logger]][567164] > HANDLER Request <UID: 8789a18b328d4ebe90fd62035842cc2b>: To evaluate training progress\n",
      "Value: <Storable: 112.7268295288086>\n",
      "[2022-07-07T23:20:14.712787+0300][CRITICAL][logger]][567164] > HANDLER Request <UID: 834cce20d6244b048235e66cfc0ad029>: To evaluate training progress\n",
      "Value: <Storable: 57.6978645324707>\n",
      "[2022-07-07T23:20:15.830881+0300][CRITICAL][logger]][567164] > HANDLER Request <UID: 71e74642c98142149dc641ce754069e8>: To evaluate training progress\n",
      "Value: <Storable: 22.907203674316406>\n",
      "[2022-07-07T23:21:14.735136+0300][CRITICAL][logger]][567164] > HANDLER Request <UID: f4cbdddbddb74d0fb6c050200ab87f9d>:\n",
      "Value: <Storable: [Parameter containing:tensor([[0.5725]], requires_grad=True), Parameter containing:tensor([1.5323], requires_grad=True)]>\n",
      "[2022-07-07T23:21:38.026923+0300][CRITICAL][logger]][567164] > HANDLER Request <UID: d8774d68794f4f8ab6a8da18ce8e3cfa>:\n",
      "Value: <Storable: 'in_features=1, out_features=1, bias=True'>\n",
      "[2022-07-07T23:21:39.138585+0300][CRITICAL][logger]][567164] > HANDLER Request <UID: c63dec3b8f94424ebe986724c806ef2d>:\n",
      "Value: <Storable: OrderedDict([('weight', tensor([[0.5725]])), ('bias', tensor([1.5323]))])>\n",
      "[2022-07-07T23:21:54.371755+0300][CRITICAL][logger]][567164] > HANDLER Request <UID: d08a8de1bb03468283452a5255dbc9c5>:\n",
      "Value: <Storable: 'in_features=1, out_features=1, bias=True'>\n",
      "[2022-07-07T23:21:55.481720+0300][CRITICAL][logger]][567164] > HANDLER Request <UID: 35a98d41c3f1488c82afd4c59344e76d>:\n",
      "Value: <Storable: OrderedDict([('weight', tensor([[0.5725]])), ('bias', tensor([1.5323]))])>\n",
      "[2022-07-07T23:22:12.505015+0300][CRITICAL][logger]][567164] > HANDLER Request <UID: 5986648792ec4096914df2bf2bca0238>:\n",
      "Value: <Storable: 'in_features=1, out_features=1, bias=True'>\n",
      "[2022-07-07T23:22:12.634546+0300][CRITICAL][logger]][567164] > HANDLER Request <UID: 29b58dabe52d4cdb901256c0485ab0aa>:\n",
      "Value: <Storable: OrderedDict([('weight', tensor([[0.5725]])), ('bias', tensor([1.5323]))])>\n",
      "[2022-07-07T23:22:18.066699+0300][CRITICAL][logger]][567164] > HANDLER Request <UID: 09004557ffab4ebb9c2d20d8c0317fe1>:\n",
      "Value: <Storable: 'in_features=1, out_features=1, bias=True'>\n",
      "[2022-07-07T23:22:18.194797+0300][CRITICAL][logger]][567164] > HANDLER Request <UID: 036a83605faa4a728c93ff1df279007b>:\n",
      "Value: <Storable: OrderedDict([('weight', tensor([[0.5725]])), ('bias', tensor([1.5323]))])>\n"
     ]
    }
   ],
   "source": [
    "duet.requests.add_handler(\n",
    "    action=\"accept\",\n",
    "    print_local=True,  # print the result in your notebook\n",
    ")"
   ]
  },
  {
   "cell_type": "code",
   "execution_count": null,
   "id": "assigned-tomato",
   "metadata": {},
   "outputs": [],
   "source": []
  }
 ],
 "metadata": {
  "kernelspec": {
   "display_name": "Python 3 (ipykernel)",
   "language": "python",
   "name": "python3"
  },
  "language_info": {
   "codemirror_mode": {
    "name": "ipython",
    "version": 3
   },
   "file_extension": ".py",
   "mimetype": "text/x-python",
   "name": "python",
   "nbconvert_exporter": "python",
   "pygments_lexer": "ipython3",
   "version": "3.8.13"
  }
 },
 "nbformat": 4,
 "nbformat_minor": 5
}
