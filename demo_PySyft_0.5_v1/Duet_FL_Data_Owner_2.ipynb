{
 "cells": [
  {
   "cell_type": "markdown",
   "id": "dependent-pharmacy",
   "metadata": {},
   "source": [
    "# Part 1: Launch a Duet Server and upload data"
   ]
  },
  {
   "cell_type": "code",
   "execution_count": 1,
   "id": "dirty-subject",
   "metadata": {
    "scrolled": true
   },
   "outputs": [
    {
     "name": "stdout",
     "output_type": "stream",
     "text": [
      "🎤  🎸  ♪♪♪ Starting Duet ♫♫♫  🎻  🎹\n",
      "\n",
      "♫♫♫ >\u001b[93m DISCLAIMER\u001b[0m: \u001b[1mDuet is an experimental feature currently in beta.\n",
      "♫♫♫ > Use at your own risk.\n",
      "\u001b[0m\n",
      "\u001b[1m\n",
      "    > ❤️ \u001b[91mLove\u001b[0m \u001b[92mDuet\u001b[0m? \u001b[93mPlease\u001b[0m \u001b[94mconsider\u001b[0m \u001b[95msupporting\u001b[0m \u001b[91mour\u001b[0m \u001b[93mcommunity!\u001b[0m\n",
      "    > https://github.com/sponsors/OpenMined\u001b[1m\n",
      "\n",
      "♫♫♫ > Punching through firewall to OpenGrid Network Node at:\n",
      "♫♫♫ > http://ec2-18-218-7-180.us-east-2.compute.amazonaws.com:5000\n",
      "♫♫♫ >\n",
      "♫♫♫ > ...waiting for response from OpenGrid Network... \n",
      "♫♫♫ > \u001b[92mDONE!\u001b[0m\n",
      "\n",
      "♫♫♫ > \u001b[95mSTEP 1:\u001b[0m Send the following code to your Duet Partner!\n",
      "\n",
      "import syft as sy\n",
      "duet = sy.join_duet(loopback=True)\n",
      "\n",
      "♫♫♫ > Connecting...\n"
     ]
    },
    {
     "name": "stderr",
     "output_type": "stream",
     "text": [
      "/home/fjunyuan/.local/lib/python3.8/site-packages/aiortc/rtcdtlstransport.py:211: CryptographyDeprecationWarning: This version of cryptography contains a temporary pyOpenSSL fallback path. Upgrade pyOpenSSL now.\n",
      "  _openssl_assert(lib.SSL_CTX_use_certificate(ctx, self._cert._x509) == 1)  # type: ignore\n",
      "/home/fjunyuan/.local/lib/python3.8/site-packages/aiortc/rtcdtlstransport.py:186: CryptographyDeprecationWarning: This version of cryptography contains a temporary pyOpenSSL fallback path. Upgrade pyOpenSSL now.\n",
      "  value=certificate_digest(self._cert._x509),  # type: ignore\n"
     ]
    },
    {
     "name": "stdout",
     "output_type": "stream",
     "text": [
      "\n",
      "♫♫♫ > \u001b[92mCONNECTED!\u001b[0m\n",
      "\n",
      "♫♫♫ > DUET LIVE STATUS  -  Objects: 5  Requests: 0   Messages: 224  Request Handlers: 1                                \r"
     ]
    }
   ],
   "source": [
    "import syft as sy\n",
    "duet = sy.launch_duet(loopback=True)"
   ]
  },
  {
   "cell_type": "code",
   "execution_count": 2,
   "id": "different-setup",
   "metadata": {},
   "outputs": [],
   "source": [
    "import torch as th\n",
    "import numpy as np"
   ]
  },
  {
   "cell_type": "code",
   "execution_count": 3,
   "id": "continent-sixth",
   "metadata": {},
   "outputs": [],
   "source": [
    "#collected data(one column is the simplest)\n",
    "data = th.FloatTensor(np.array([60, 65, 75, 85, 95]).reshape(-1, 1))\n",
    "\n",
    "#add tag and describtion\n",
    "data = data.tag(\"DO1 data\")\n",
    "data = data.describe(\"Dataset of 6 samples, 1 feature\")\n",
    "\n",
    "data_ptr = data.send(duet, searchable=True)"
   ]
  },
  {
   "cell_type": "code",
   "execution_count": 4,
   "id": "tropical-addition",
   "metadata": {},
   "outputs": [
    {
     "data": {
      "text/html": [
       "<div>\n",
       "<style scoped>\n",
       "    .dataframe tbody tr th:only-of-type {\n",
       "        vertical-align: middle;\n",
       "    }\n",
       "\n",
       "    .dataframe tbody tr th {\n",
       "        vertical-align: top;\n",
       "    }\n",
       "\n",
       "    .dataframe thead th {\n",
       "        text-align: right;\n",
       "    }\n",
       "</style>\n",
       "<table border=\"1\" class=\"dataframe\">\n",
       "  <thead>\n",
       "    <tr style=\"text-align: right;\">\n",
       "      <th></th>\n",
       "      <th>ID</th>\n",
       "      <th>Tags</th>\n",
       "      <th>Description</th>\n",
       "      <th>object_type</th>\n",
       "    </tr>\n",
       "  </thead>\n",
       "  <tbody>\n",
       "    <tr>\n",
       "      <th>0</th>\n",
       "      <td>&lt;UID: e23381681cc44cf99c3f6b01f7d9c8bd&gt;</td>\n",
       "      <td>[DO2 data]</td>\n",
       "      <td>Dataset of 5 samples, 1 feature</td>\n",
       "      <td>&lt;class 'torch.Tensor'&gt;</td>\n",
       "    </tr>\n",
       "  </tbody>\n",
       "</table>\n",
       "</div>"
      ],
      "text/plain": [
       "                                        ID        Tags  \\\n",
       "0  <UID: e23381681cc44cf99c3f6b01f7d9c8bd>  [DO2 data]   \n",
       "\n",
       "                       Description             object_type  \n",
       "0  Dataset of 5 samples, 1 feature  <class 'torch.Tensor'>  "
      ]
     },
     "execution_count": 4,
     "metadata": {},
     "output_type": "execute_result"
    }
   ],
   "source": [
    "duet.store.pandas "
   ]
  },
  {
   "cell_type": "code",
   "execution_count": 5,
   "id": "nearby-usage",
   "metadata": {},
   "outputs": [
    {
     "data": {
      "text/plain": [
       "tensor([[60.],\n",
       "        [65.],\n",
       "        [75.],\n",
       "        [85.],\n",
       "        [95.]])"
      ]
     },
     "execution_count": 5,
     "metadata": {},
     "output_type": "execute_result"
    }
   ],
   "source": [
    "data"
   ]
  },
  {
   "cell_type": "markdown",
   "id": "b1688dda",
   "metadata": {},
   "source": [
    "### Add request handlers"
   ]
  },
  {
   "cell_type": "code",
   "execution_count": 6,
   "id": "under-revolution",
   "metadata": {},
   "outputs": [
    {
     "name": "stderr",
     "output_type": "stream",
     "text": [
      "[2022-07-07T23:20:47.592534+0300][CRITICAL][logger]][567180] > HANDLER Request <UID: 78e08a211a694fa0af1661076063008e>: To evaluate training progress\n",
      "Value: <Storable: 5483.63623046875>\n",
      "[2022-07-07T23:20:48.712023+0300][CRITICAL][logger]][567180] > HANDLER Request <UID: 67575235e2904460a59d686e5e652e10>: To evaluate training progress\n",
      "Value: <Storable: 4388.87255859375>\n",
      "[2022-07-07T23:20:49.822872+0300][CRITICAL][logger]][567180] > HANDLER Request <UID: b839ce11af144ca5b6fe76f3d58b6f8f>: To evaluate training progress\n",
      "Value: <Storable: 3420.020751953125>\n",
      "[2022-07-07T23:20:50.934249+0300][CRITICAL][logger]][567180] > HANDLER Request <UID: 34bb739c84044de28e334989c86715e3>: To evaluate training progress\n",
      "Value: <Storable: 2578.491943359375>\n",
      "[2022-07-07T23:20:52.045522+0300][CRITICAL][logger]][567180] > HANDLER Request <UID: 08627e86447447b2b1be869cf58963bf>: To evaluate training progress\n",
      "Value: <Storable: 1864.404541015625>\n",
      "[2022-07-07T23:20:53.155232+0300][CRITICAL][logger]][567180] > HANDLER Request <UID: c1faf0606ed64b0da6461523c49fad0f>: To evaluate training progress\n",
      "Value: <Storable: 1276.2349853515625>\n",
      "[2022-07-07T23:20:54.264788+0300][CRITICAL][logger]][567180] > HANDLER Request <UID: 760973a50c9e4bbf879a640283dff61f>: To evaluate training progress\n",
      "Value: <Storable: 810.4337158203125>\n",
      "[2022-07-07T23:20:55.376503+0300][CRITICAL][logger]][567180] > HANDLER Request <UID: e6b0cb44fd854ec99d18032e41678f41>: To evaluate training progress\n",
      "Value: <Storable: 461.0394592285156>\n",
      "[2022-07-07T23:20:56.475752+0300][CRITICAL][logger]][567180] > HANDLER Request <UID: ee0c6f8a0d7c4d6591bc4c2cf88a6f61>: To evaluate training progress\n",
      "Value: <Storable: 219.3572998046875>\n",
      "[2022-07-07T23:20:56.615124+0300][CRITICAL][logger]][567180] > HANDLER Request <UID: 38c4f531d3a440f2982d2eeab5ddcdb8>: To evaluate training progress\n",
      "Value: <Storable: 73.79032135009766>\n",
      "[2022-07-07T23:21:15.852704+0300][CRITICAL][logger]][567180] > HANDLER Request <UID: d9db88787ac44375a7880b6fd7976dfe>:\n",
      "Value: <Storable: [Parameter containing:tensor([[0.5686]], requires_grad=True), Parameter containing:tensor([1.5297], requires_grad=True)]>\n",
      "[2022-07-07T23:23:10.920321+0300][CRITICAL][logger]][567180] > HANDLER Request <UID: 9e2f993eb8874e0eb995f61a4e5bfcda>:\n",
      "Value: <Storable: 'in_features=1, out_features=1, bias=True'>\n",
      "[2022-07-07T23:23:12.027525+0300][CRITICAL][logger]][567180] > HANDLER Request <UID: f0858559d497416bb1bcc252d1a0949d>:\n",
      "Value: <Storable: OrderedDict([('weight', tensor([[0.5686]])), ('bias', tensor([1.5297]))])>\n"
     ]
    }
   ],
   "source": [
    "# Handler \"name\" is like key\n",
    "duet.requests.add_handler(\n",
    "    action=\"accept\",\n",
    "    name = \"download_result\"\n",
    "    print_local=True,  # print the result in your notebook\n",
    ")"
   ]
  },
  {
   "cell_type": "code",
   "execution_count": null,
   "id": "every-banana",
   "metadata": {},
   "outputs": [],
   "source": []
  },
  {
   "cell_type": "code",
   "execution_count": null,
   "id": "c445ebdc",
   "metadata": {},
   "outputs": [],
   "source": []
  }
 ],
 "metadata": {
  "kernelspec": {
   "display_name": "Python 3 (ipykernel)",
   "language": "python",
   "name": "python3"
  },
  "language_info": {
   "codemirror_mode": {
    "name": "ipython",
    "version": 3
   },
   "file_extension": ".py",
   "mimetype": "text/x-python",
   "name": "python",
   "nbconvert_exporter": "python",
   "pygments_lexer": "ipython3",
   "version": "3.8.13"
  }
 },
 "nbformat": 4,
 "nbformat_minor": 5
}
